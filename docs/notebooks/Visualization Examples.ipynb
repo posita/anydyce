{
 "cells": [
  {
   "cell_type": "markdown",
   "id": "b126e824",
   "metadata": {},
   "source": [
    "# [``anydyce``](https://posita.github.io/anydyce/latest/) Visualization Examples\n",
    "\n",
    "Selected examples highlighting ``dyce``’s use and capabilities. Select ☞ ``Cell`` ☞ ``Run All`` from the menu above to run them."
   ]
  },
  {
   "cell_type": "markdown",
   "id": "e6e18b58",
   "metadata": {},
   "source": [
    "## AnyDice replacement\n",
    "\n",
    "``anydyce`` affords functionality similar to [AnyDice](https://anydice.com/) within [Jupyter](https://jupyter.org/) via its ``anydyce.jupyter_visualize`` interface."
   ]
  },
  {
   "cell_type": "code",
   "execution_count": null,
   "id": "956a4d25",
   "metadata": {},
   "outputs": [],
   "source": [
    "import warnings\n",
    "with warnings.catch_warnings():\n",
    "    warnings.simplefilter(\"ignore\")\n",
    "    try:\n",
    "        import anydyce\n",
    "    except (ImportError, ModuleNotFoundError):\n",
    "        import sys\n",
    "        !{sys.executable} -m pip install --upgrade pip\n",
    "        !{sys.executable} -m pip install anydyce ipywidgets matplotlib\n",
    "        import anydyce\n",
    "print(\"Ready!\")"
   ]
  },
  {
   "cell_type": "markdown",
   "id": "287dc20c",
   "metadata": {},
   "source": [
    "### Interactive example: highest, middle, and lowest of 3d6"
   ]
  },
  {
   "cell_type": "code",
   "execution_count": null,
   "id": "bd16aacb",
   "metadata": {},
   "outputs": [],
   "source": [
    "from anydyce import BreakoutType, jupyter_visualize\n",
    "from dyce import P\n",
    "\n",
    "p_3d6 = 3@P(6)\n",
    "jupyter_visualize(\n",
    "    [\n",
    "        p_3d6.h(-1),  # highest\n",
    "        p_3d6.h(1),  # middle\n",
    "        p_3d6.h(0),  # lowest\n",
    "    ],\n",
    "    default_breakout_type=BreakoutType.BARH,\n",
    "    default_markers=\"o\",\n",
    ")"
   ]
  },
  {
   "cell_type": "markdown",
   "id": "d9dff3e1",
   "metadata": {},
   "source": [
    "### Interactive example: Powered by the _Apocalypse_ (PbtA)\n",
    "\n",
    "Expected distributions from _[Apocalypse World](http://apocalypse-world.com/)’s_ core mechanic with various modifiers."
   ]
  },
  {
   "cell_type": "code",
   "execution_count": null,
   "id": "9c03935e",
   "metadata": {},
   "outputs": [],
   "source": [
    "from enum import IntEnum, auto\n",
    "from anydyce import BreakoutType, jupyter_visualize\n",
    "from dyce import H\n",
    "\n",
    "class PBTA(IntEnum):\n",
    "    FAIL = 0\n",
    "    COST = auto()\n",
    "    SUCC = auto()\n",
    "\n",
    "def pbta(h, outcome):\n",
    "    if outcome <= 6:\n",
    "        return PBTA.FAIL\n",
    "    elif outcome >= 10:\n",
    "        return PBTA.SUCC\n",
    "    else:\n",
    "        return PBTA.COST\n",
    "\n",
    "jupyter_visualize(\n",
    "    [\n",
    "        (f\"PBTA{mod:+d}\", ((2@H(6)) + mod).substitute(pbta), ((2@H(6)) + mod))\n",
    "        for mod in range(-1, 4)\n",
    "    ], \n",
    "    default_breakout_type=BreakoutType.BURST,\n",
    "    default_main_plot_type=\"bar\",\n",
    ")"
   ]
  },
  {
   "cell_type": "markdown",
   "id": "51fbe000",
   "metadata": {},
   "source": [
    "## Lower level visualization conveniences\n",
    "\n",
    "For more detailed control over output, ``anydyce`` exposes additional visualization conveniences."
   ]
  },
  {
   "cell_type": "markdown",
   "id": "9532bcd1",
   "metadata": {},
   "source": [
    "### Visualization example: 2d10 vs. d8+d12, bar, line, and burst charts\n",
    "\n",
    "Comparing two mechanics with similar distributions via ``anydyce``’s take on a bar chart (``anydyce.viz.plot_bar``), a line chart (``anydyce.viz.plot_line``), and a “burst” chart (``anydyce.viz.display_burst`` which is ``anydyce``’s take on a donut chart)."
   ]
  },
  {
   "cell_type": "code",
   "execution_count": null,
   "id": "5997538b",
   "metadata": {},
   "outputs": [],
   "source": [
    "from anydyce.viz import display_burst, plot_bar, plot_line\n",
    "from dyce import H\n",
    "import matplotlib.pyplot\n",
    "import matplotlib.style\n",
    "\n",
    "matplotlib.style.use(\"bmh\")\n",
    "matplotlib.pyplot.rcParams[\"figure.figsize\"] = (12, 12)\n",
    "\n",
    "d10_2 = 2@H(10)\n",
    "d10_2_label = \"2d10\"\n",
    "d8d12 = H(8) + H(12)\n",
    "d8d12_label = \"d8+d12\"\n",
    "\n",
    "# Burst chart\n",
    "ax = matplotlib.pyplot.subplot2grid((2, 2), (0, 0), colspan=2)\n",
    "display_burst(\n",
    "    ax,\n",
    "    h_inner=d10_2,\n",
    "    h_outer=d8d12,\n",
    "    inner_color=\"Purples_r\",\n",
    "    outer_color=\"Greens_r\",\n",
    "    alpha=0.8,\n",
    "    title=f\"Outer: {d8d12_label}\\nInner: {d10_2_label}\",\n",
    ")\n",
    "\n",
    "# Bar chart\n",
    "ax = matplotlib.pyplot.subplot2grid((2, 2), (1, 0))\n",
    "plot_bar(ax, [\n",
    "    (d10_2_label, d10_2),\n",
    "    (d8d12_label, d8d12),\n",
    "], alpha=0.8)\n",
    "# Re-color the bars\n",
    "so_far = 0\n",
    "for count, color in zip(\n",
    "    (len(h) for h in (d10_2, d8d12)),\n",
    "    (\"tab:purple\", \"tab:green\"),\n",
    "):\n",
    "    for i in range(count):\n",
    "        ax.patches[i + so_far].set_color(color)\n",
    "    so_far += count\n",
    "ax.legend()\n",
    "\n",
    "# Line chart\n",
    "ax = matplotlib.pyplot.subplot2grid((2, 2), (1, 1))\n",
    "plot_line(ax, [\n",
    "    (d10_2_label, d10_2),\n",
    "    (d8d12_label, d8d12),\n",
    "], markers=\"<>\", alpha=0.8)\n",
    "# Re-color the lines\n",
    "ax.lines[0].set_color(\"tab:purple\")\n",
    "ax.lines[1].set_color(\"tab:green\")\n",
    "ax.legend()\n",
    "\n",
    "matplotlib.pyplot.show()"
   ]
  }
 ],
 "metadata": {
  "kernelspec": {
   "display_name": "Python 3 (ipykernel)",
   "language": "python",
   "name": "python3"
  },
  "language_info": {
   "codemirror_mode": {
    "name": "ipython",
    "version": 3
   },
   "file_extension": ".py",
   "mimetype": "text/x-python",
   "name": "python",
   "nbconvert_exporter": "python",
   "pygments_lexer": "ipython3",
   "version": "3.9.7"
  }
 },
 "nbformat": 4,
 "nbformat_minor": 5
}
